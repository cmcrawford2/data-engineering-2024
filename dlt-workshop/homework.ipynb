{
 "cells": [
  {
   "cell_type": "markdown",
   "metadata": {
    "id": "mrTFv5nPClXh"
   },
   "source": [
    "# **Homework**: Data talks club data engineering zoomcamp Data loading workshop\n",
    "\n",
    "Hello folks, let's practice what we learned - Loading data with the best practices of data engineering.\n",
    "\n",
    "Here are the exercises we will do\n",
    "\n",
    "\n"
   ]
  },
  {
   "cell_type": "markdown",
   "metadata": {
    "id": "wLF4iXf-NR7t"
   },
   "source": [
    "# 1. Use a generator\n",
    "\n",
    "Remember the concept of generator? Let's practice using them to futher our understanding of how they work.\n",
    "\n",
    "Let's define a generator and then run it as practice.\n",
    "\n",
    "**Answer the following questions:**\n",
    "\n",
    "- **Question 1: What is the sum of the outputs of the generator for limit = 5?**\n",
    "- **Question 2: What is the 13th number yielded**\n",
    "\n",
    "I suggest practicing these questions without GPT as the purpose is to further your learning."
   ]
  },
  {
   "cell_type": "code",
   "execution_count": 2,
   "metadata": {
    "colab": {
     "base_uri": "https://localhost:8080/"
    },
    "id": "wLng-bDJN4jf",
    "outputId": "547683cb-5f56-4815-a903-d0d9578eb1f9"
   },
   "outputs": [
    {
     "name": "stdout",
     "output_type": "stream",
     "text": [
      "8.382332347441762\n",
      "1.0\n",
      "1.4142135623730951\n",
      "1.7320508075688772\n",
      "2.0\n",
      "2.23606797749979\n",
      "2.449489742783178\n",
      "2.6457513110645907\n",
      "2.8284271247461903\n",
      "3.0\n",
      "3.1622776601683795\n",
      "3.3166247903554\n",
      "3.4641016151377544\n",
      "3.605551275463989\n"
     ]
    }
   ],
   "source": [
    "def square_root_generator(limit):\n",
    "    n = 1\n",
    "    while n <= limit:\n",
    "        yield n ** 0.5\n",
    "        n += 1\n",
    "\n",
    "# Example usage:\n",
    "limit = 5\n",
    "generator = square_root_generator(limit)\n",
    "\n",
    "sum = 0\n",
    "for sqrt_value in generator:\n",
    "    sum += sqrt_value\n",
    "\n",
    "print(sum)\n",
    "\n",
    "generator = square_root_generator(13)\n",
    "\n",
    "for sqrt_value in generator:\n",
    "    print(sqrt_value)\n",
    "\n"
   ]
  },
  {
   "cell_type": "markdown",
   "metadata": {
    "id": "vjWhILzGJMpK"
   },
   "source": [
    "# 2. Append a generator to a table with existing data\n",
    "\n",
    "\n",
    "Below you have 2 generators. You will be tasked to load them to duckdb and answer some questions from the data\n",
    "\n",
    "1. Load the first generator and calculate the sum of ages of all people. Make sure to only load it once.\n",
    "2. Append the second generator to the same table as the first.\n",
    "3. **After correctly appending the data, calculate the sum of all ages of people.**\n",
    "\n",
    "\n"
   ]
  },
  {
   "cell_type": "code",
   "execution_count": 3,
   "metadata": {
    "colab": {
     "base_uri": "https://localhost:8080/"
    },
    "id": "2MoaQcdLBEk6",
    "outputId": "d2b93dc1-d83f-44ea-aeff-fdf51d75f7aa"
   },
   "outputs": [
    {
     "name": "stdout",
     "output_type": "stream",
     "text": [
      "{'ID': 1, 'Name': 'Person_1', 'Age': 26, 'City': 'City_A'}\n",
      "{'ID': 2, 'Name': 'Person_2', 'Age': 27, 'City': 'City_A'}\n",
      "{'ID': 3, 'Name': 'Person_3', 'Age': 28, 'City': 'City_A'}\n",
      "{'ID': 4, 'Name': 'Person_4', 'Age': 29, 'City': 'City_A'}\n",
      "{'ID': 5, 'Name': 'Person_5', 'Age': 30, 'City': 'City_A'}\n",
      "{'ID': 3, 'Name': 'Person_3', 'Age': 33, 'City': 'City_B', 'Occupation': 'Job_3'}\n",
      "{'ID': 4, 'Name': 'Person_4', 'Age': 34, 'City': 'City_B', 'Occupation': 'Job_4'}\n",
      "{'ID': 5, 'Name': 'Person_5', 'Age': 35, 'City': 'City_B', 'Occupation': 'Job_5'}\n",
      "{'ID': 6, 'Name': 'Person_6', 'Age': 36, 'City': 'City_B', 'Occupation': 'Job_6'}\n",
      "{'ID': 7, 'Name': 'Person_7', 'Age': 37, 'City': 'City_B', 'Occupation': 'Job_7'}\n",
      "{'ID': 8, 'Name': 'Person_8', 'Age': 38, 'City': 'City_B', 'Occupation': 'Job_8'}\n"
     ]
    }
   ],
   "source": [
    "def people_1():\n",
    "    for i in range(1, 6):\n",
    "        yield {\"ID\": i, \"Name\": f\"Person_{i}\", \"Age\": 25 + i, \"City\": \"City_A\"}\n",
    "\n",
    "for person in people_1():\n",
    "    print(person)\n",
    "\n",
    "\n",
    "def people_2():\n",
    "    for i in range(3, 9):\n",
    "        yield {\"ID\": i, \"Name\": f\"Person_{i}\", \"Age\": 30 + i, \"City\": \"City_B\", \"Occupation\": f\"Job_{i}\"}\n",
    "\n",
    "\n",
    "for person in people_2():\n",
    "    print(person)\n"
   ]
  },
  {
   "cell_type": "markdown",
   "metadata": {
    "id": "pY4cFAWOSwN1"
   },
   "source": [
    "# 3. Merge a generator\n",
    "\n",
    "Re-use the generators from Exercise 2.\n",
    "\n",
    "A table's primary key needs to be created from the start, so load your data to a new table with primary key ID.\n",
    "\n",
    "Load your first generator first, and then load the second one with merge. Since they have overlapping IDs, some of the records from the first load should be replaced by the ones from the second load.\n",
    "\n",
    "After loading, you should have a total of 8 records, and ID 3 should have age 33.\n",
    "\n",
    "Question: **Calculate the sum of ages of all the people loaded as described above.**\n"
   ]
  },
  {
   "cell_type": "markdown",
   "metadata": {
    "id": "kKB2GTB9oVjr"
   },
   "source": [
    "# Solution: First make sure that the following modules are installed:"
   ]
  },
  {
   "cell_type": "code",
   "execution_count": 4,
   "metadata": {
    "id": "xTVvtyqrfVNq"
   },
   "outputs": [
    {
     "name": "stdout",
     "output_type": "stream",
     "text": [
      "Defaulting to user installation because normal site-packages is not writeable\n",
      "Requirement already satisfied: dlt[duckdb] in /Users/cris/Library/Python/3.9/lib/python/site-packages (0.4.4)\n",
      "Requirement already satisfied: PyYAML>=5.4.1 in /Users/cris/Library/Python/3.9/lib/python/site-packages (from dlt[duckdb]) (6.0.1)\n",
      "Requirement already satisfied: SQLAlchemy>=1.4.0 in /Users/cris/Library/Python/3.9/lib/python/site-packages (from dlt[duckdb]) (2.0.20)\n",
      "Requirement already satisfied: astunparse>=1.6.3 in /Users/cris/Library/Python/3.9/lib/python/site-packages (from dlt[duckdb]) (1.6.3)\n",
      "Requirement already satisfied: click>=7.1 in /Users/cris/Library/Python/3.9/lib/python/site-packages (from dlt[duckdb]) (8.1.7)\n",
      "Requirement already satisfied: fsspec>=2022.4.0 in /Users/cris/Library/Python/3.9/lib/python/site-packages (from dlt[duckdb]) (2024.2.0)\n",
      "Requirement already satisfied: gitpython>=3.1.29 in /Users/cris/Library/Python/3.9/lib/python/site-packages (from dlt[duckdb]) (3.1.41)\n",
      "Requirement already satisfied: giturlparse>=0.10.0 in /Users/cris/Library/Python/3.9/lib/python/site-packages (from dlt[duckdb]) (0.12.0)\n",
      "Requirement already satisfied: hexbytes>=0.2.2 in /Users/cris/Library/Python/3.9/lib/python/site-packages (from dlt[duckdb]) (1.0.0)\n",
      "Requirement already satisfied: humanize>=4.4.0 in /Users/cris/Library/Python/3.9/lib/python/site-packages (from dlt[duckdb]) (4.9.0)\n",
      "Requirement already satisfied: jsonpath-ng>=1.5.3 in /Users/cris/Library/Python/3.9/lib/python/site-packages (from dlt[duckdb]) (1.6.1)\n",
      "Requirement already satisfied: makefun>=1.15.0 in /Users/cris/Library/Python/3.9/lib/python/site-packages (from dlt[duckdb]) (1.15.2)\n",
      "Requirement already satisfied: orjson<=3.9.10,>=3.6.7 in /Users/cris/Library/Python/3.9/lib/python/site-packages (from dlt[duckdb]) (3.9.10)\n",
      "Requirement already satisfied: packaging>=21.1 in /Users/cris/Library/Python/3.9/lib/python/site-packages (from dlt[duckdb]) (23.2)\n",
      "Requirement already satisfied: pathvalidate>=2.5.2 in /Users/cris/Library/Python/3.9/lib/python/site-packages (from dlt[duckdb]) (3.2.0)\n",
      "Requirement already satisfied: pendulum>=2.1.2 in /Users/cris/Library/Python/3.9/lib/python/site-packages (from dlt[duckdb]) (3.0.0)\n",
      "Requirement already satisfied: pytz>=2022.6 in /Users/cris/Library/Python/3.9/lib/python/site-packages (from dlt[duckdb]) (2023.3.post1)\n",
      "Requirement already satisfied: requests>=2.26.0 in /Users/cris/Library/Python/3.9/lib/python/site-packages (from dlt[duckdb]) (2.31.0)\n",
      "Requirement already satisfied: requirements-parser>=0.5.0 in /Users/cris/Library/Python/3.9/lib/python/site-packages (from dlt[duckdb]) (0.5.0)\n",
      "Requirement already satisfied: semver>=2.13.0 in /Users/cris/Library/Python/3.9/lib/python/site-packages (from dlt[duckdb]) (3.0.2)\n",
      "Requirement already satisfied: setuptools>=65.6.0 in /Users/cris/Library/Python/3.9/lib/python/site-packages (from dlt[duckdb]) (69.0.3)\n",
      "Requirement already satisfied: simplejson>=3.17.5 in /Users/cris/Library/Python/3.9/lib/python/site-packages (from dlt[duckdb]) (3.19.2)\n",
      "Requirement already satisfied: tenacity>=8.0.2 in /Users/cris/Library/Python/3.9/lib/python/site-packages (from dlt[duckdb]) (8.2.3)\n",
      "Requirement already satisfied: tomlkit>=0.11.3 in /Users/cris/Library/Python/3.9/lib/python/site-packages (from dlt[duckdb]) (0.12.3)\n",
      "Requirement already satisfied: typing-extensions>=4.0.0 in /Users/cris/Library/Python/3.9/lib/python/site-packages (from dlt[duckdb]) (4.7.1)\n",
      "Requirement already satisfied: tzdata>=2022.1 in /Users/cris/Library/Python/3.9/lib/python/site-packages (from dlt[duckdb]) (2023.4)\n",
      "Requirement already satisfied: duckdb<0.10.0,>=0.6.1 in /Users/cris/Library/Python/3.9/lib/python/site-packages (from dlt[duckdb]) (0.9.2)\n",
      "Requirement already satisfied: wheel<1.0,>=0.23.0 in /Library/Developer/CommandLineTools/Library/Frameworks/Python3.framework/Versions/3.9/lib/python3.9/site-packages (from astunparse>=1.6.3->dlt[duckdb]) (0.37.0)\n",
      "Requirement already satisfied: six<2.0,>=1.6.1 in /Library/Developer/CommandLineTools/Library/Frameworks/Python3.framework/Versions/3.9/lib/python3.9/site-packages (from astunparse>=1.6.3->dlt[duckdb]) (1.15.0)\n",
      "Requirement already satisfied: gitdb<5,>=4.0.1 in /Users/cris/Library/Python/3.9/lib/python/site-packages (from gitpython>=3.1.29->dlt[duckdb]) (4.0.11)\n",
      "Requirement already satisfied: ply in /Users/cris/Library/Python/3.9/lib/python/site-packages (from jsonpath-ng>=1.5.3->dlt[duckdb]) (3.11)\n",
      "Requirement already satisfied: python-dateutil>=2.6 in /Users/cris/Library/Python/3.9/lib/python/site-packages (from pendulum>=2.1.2->dlt[duckdb]) (2.8.2)\n",
      "Requirement already satisfied: time-machine>=2.6.0 in /Users/cris/Library/Python/3.9/lib/python/site-packages (from pendulum>=2.1.2->dlt[duckdb]) (2.13.0)\n",
      "Requirement already satisfied: charset-normalizer<4,>=2 in /Users/cris/Library/Python/3.9/lib/python/site-packages (from requests>=2.26.0->dlt[duckdb]) (3.3.2)\n",
      "Requirement already satisfied: idna<4,>=2.5 in /Users/cris/Library/Python/3.9/lib/python/site-packages (from requests>=2.26.0->dlt[duckdb]) (3.6)\n",
      "Requirement already satisfied: urllib3<3,>=1.21.1 in /Users/cris/Library/Python/3.9/lib/python/site-packages (from requests>=2.26.0->dlt[duckdb]) (2.1.0)\n",
      "Requirement already satisfied: certifi>=2017.4.17 in /Users/cris/Library/Python/3.9/lib/python/site-packages (from requests>=2.26.0->dlt[duckdb]) (2023.11.17)\n",
      "Requirement already satisfied: types-setuptools>=57.0.0 in /Users/cris/Library/Python/3.9/lib/python/site-packages (from requirements-parser>=0.5.0->dlt[duckdb]) (69.0.0.20240125)\n",
      "Requirement already satisfied: smmap<6,>=3.0.1 in /Users/cris/Library/Python/3.9/lib/python/site-packages (from gitdb<5,>=4.0.1->gitpython>=3.1.29->dlt[duckdb]) (5.0.1)\n",
      "\n",
      "\u001b[1m[\u001b[0m\u001b[34;49mnotice\u001b[0m\u001b[1;39;49m]\u001b[0m\u001b[39;49m A new release of pip is available: \u001b[0m\u001b[31;49m23.3.2\u001b[0m\u001b[39;49m -> \u001b[0m\u001b[32;49m24.0\u001b[0m\n",
      "\u001b[1m[\u001b[0m\u001b[34;49mnotice\u001b[0m\u001b[1;39;49m]\u001b[0m\u001b[39;49m To update, run: \u001b[0m\u001b[32;49m/Library/Developer/CommandLineTools/usr/bin/python3 -m pip install --upgrade pip\u001b[0m\n"
     ]
    }
   ],
   "source": [
    "#Install the dependencies\n",
    "# %%capture\n",
    "!pip install 'dlt[duckdb]'"
   ]
  },
  {
   "cell_type": "code",
   "execution_count": 5,
   "metadata": {
    "id": "a2-PRBAkGC2K"
   },
   "outputs": [
    {
     "name": "stderr",
     "output_type": "stream",
     "text": [
      "/Users/cris/Library/Python/3.9/lib/python/site-packages/urllib3/__init__.py:34: NotOpenSSLWarning: urllib3 v2 only supports OpenSSL 1.1.1+, currently the 'ssl' module is compiled with 'LibreSSL 2.8.3'. See: https://github.com/urllib3/urllib3/issues/3020\n",
      "  warnings.warn(\n"
     ]
    },
    {
     "name": "stdout",
     "output_type": "stream",
     "text": [
      "Pipeline dlt_ipykernel_launcher load step completed in 0.21 seconds\n",
      "1 load package(s) were loaded to destination duckdb and into dataset generators\n",
      "The duckdb destination used duckdb:////Users/cris/data-engineering-2024/dlt-workshop/dlt_ipykernel_launcher.duckdb location to store data\n",
      "Load package 1708036227.0842292 is LOADED and contains no failed jobs\n"
     ]
    }
   ],
   "source": [
    "import dlt\n",
    "\n",
    "# load the first generator\n",
    "\n",
    "generators_pipeline = dlt.pipeline(destination='duckdb', dataset_name='generators')\n",
    "\n",
    "info = generators_pipeline.run(people_1(),\n",
    "\t\t\t\t\t\t\t\t\t\ttable_name=\"http_download\",\n",
    "\t\t\t\t\t\t\t\t\t\twrite_disposition=\"replace\")\n",
    "\n",
    "print(info)\n",
    "\n",
    "info = generators_pipeline.run(people_2(),\n",
    "                               table_name=\"http_download\",\n",
    "                               write_disposition=\"append\")"
   ]
  },
  {
   "cell_type": "code",
   "execution_count": 6,
   "metadata": {},
   "outputs": [
    {
     "name": "stdout",
     "output_type": "stream",
     "text": [
      "Loaded tables: \n"
     ]
    },
    {
     "data": {
      "text/plain": [
       "┌─────────────────────┐\n",
       "│        name         │\n",
       "│       varchar       │\n",
       "├─────────────────────┤\n",
       "│ _dlt_loads          │\n",
       "│ _dlt_pipeline_state │\n",
       "│ _dlt_version        │\n",
       "│ http_download       │\n",
       "└─────────────────────┘"
      ]
     },
     "metadata": {},
     "output_type": "display_data"
    },
    {
     "name": "stdout",
     "output_type": "stream",
     "text": [
      "\n",
      "\n",
      "\n",
      " http_download table below:\n"
     ]
    },
    {
     "data": {
      "text/html": [
       "<div>\n",
       "<style scoped>\n",
       "    .dataframe tbody tr th:only-of-type {\n",
       "        vertical-align: middle;\n",
       "    }\n",
       "\n",
       "    .dataframe tbody tr th {\n",
       "        vertical-align: top;\n",
       "    }\n",
       "\n",
       "    .dataframe thead th {\n",
       "        text-align: right;\n",
       "    }\n",
       "</style>\n",
       "<table border=\"1\" class=\"dataframe\">\n",
       "  <thead>\n",
       "    <tr style=\"text-align: right;\">\n",
       "      <th></th>\n",
       "      <th>id</th>\n",
       "      <th>name</th>\n",
       "      <th>age</th>\n",
       "      <th>city</th>\n",
       "      <th>_dlt_load_id</th>\n",
       "      <th>_dlt_id</th>\n",
       "      <th>occupation</th>\n",
       "    </tr>\n",
       "  </thead>\n",
       "  <tbody>\n",
       "    <tr>\n",
       "      <th>0</th>\n",
       "      <td>1</td>\n",
       "      <td>Person_1</td>\n",
       "      <td>26</td>\n",
       "      <td>City_A</td>\n",
       "      <td>1708036227.0842292</td>\n",
       "      <td>9X3JsYxNpxKRrg</td>\n",
       "      <td>None</td>\n",
       "    </tr>\n",
       "    <tr>\n",
       "      <th>1</th>\n",
       "      <td>2</td>\n",
       "      <td>Person_2</td>\n",
       "      <td>27</td>\n",
       "      <td>City_A</td>\n",
       "      <td>1708036227.0842292</td>\n",
       "      <td>e41WTjq8LWBEvQ</td>\n",
       "      <td>None</td>\n",
       "    </tr>\n",
       "    <tr>\n",
       "      <th>2</th>\n",
       "      <td>3</td>\n",
       "      <td>Person_3</td>\n",
       "      <td>28</td>\n",
       "      <td>City_A</td>\n",
       "      <td>1708036227.0842292</td>\n",
       "      <td>VVhIa9vBumOxVQ</td>\n",
       "      <td>None</td>\n",
       "    </tr>\n",
       "    <tr>\n",
       "      <th>3</th>\n",
       "      <td>4</td>\n",
       "      <td>Person_4</td>\n",
       "      <td>29</td>\n",
       "      <td>City_A</td>\n",
       "      <td>1708036227.0842292</td>\n",
       "      <td>C4D+Yj10UW/gig</td>\n",
       "      <td>None</td>\n",
       "    </tr>\n",
       "    <tr>\n",
       "      <th>4</th>\n",
       "      <td>5</td>\n",
       "      <td>Person_5</td>\n",
       "      <td>30</td>\n",
       "      <td>City_A</td>\n",
       "      <td>1708036227.0842292</td>\n",
       "      <td>BFk8SrxM6GENfA</td>\n",
       "      <td>None</td>\n",
       "    </tr>\n",
       "    <tr>\n",
       "      <th>5</th>\n",
       "      <td>3</td>\n",
       "      <td>Person_3</td>\n",
       "      <td>33</td>\n",
       "      <td>City_B</td>\n",
       "      <td>1708036227.699143</td>\n",
       "      <td>APqp5lqpoFU1KA</td>\n",
       "      <td>Job_3</td>\n",
       "    </tr>\n",
       "    <tr>\n",
       "      <th>6</th>\n",
       "      <td>4</td>\n",
       "      <td>Person_4</td>\n",
       "      <td>34</td>\n",
       "      <td>City_B</td>\n",
       "      <td>1708036227.699143</td>\n",
       "      <td>kt8IchGpd5L4sw</td>\n",
       "      <td>Job_4</td>\n",
       "    </tr>\n",
       "    <tr>\n",
       "      <th>7</th>\n",
       "      <td>5</td>\n",
       "      <td>Person_5</td>\n",
       "      <td>35</td>\n",
       "      <td>City_B</td>\n",
       "      <td>1708036227.699143</td>\n",
       "      <td>ndlkajbvVFt7og</td>\n",
       "      <td>Job_5</td>\n",
       "    </tr>\n",
       "    <tr>\n",
       "      <th>8</th>\n",
       "      <td>6</td>\n",
       "      <td>Person_6</td>\n",
       "      <td>36</td>\n",
       "      <td>City_B</td>\n",
       "      <td>1708036227.699143</td>\n",
       "      <td>ZMxY+qtJWuT39Q</td>\n",
       "      <td>Job_6</td>\n",
       "    </tr>\n",
       "    <tr>\n",
       "      <th>9</th>\n",
       "      <td>7</td>\n",
       "      <td>Person_7</td>\n",
       "      <td>37</td>\n",
       "      <td>City_B</td>\n",
       "      <td>1708036227.699143</td>\n",
       "      <td>oWmYI5Ro95e5WQ</td>\n",
       "      <td>Job_7</td>\n",
       "    </tr>\n",
       "    <tr>\n",
       "      <th>10</th>\n",
       "      <td>8</td>\n",
       "      <td>Person_8</td>\n",
       "      <td>38</td>\n",
       "      <td>City_B</td>\n",
       "      <td>1708036227.699143</td>\n",
       "      <td>Mmd40WSf2FCe5w</td>\n",
       "      <td>Job_8</td>\n",
       "    </tr>\n",
       "  </tbody>\n",
       "</table>\n",
       "</div>"
      ],
      "text/plain": [
       "    id      name  age    city        _dlt_load_id         _dlt_id occupation\n",
       "0    1  Person_1   26  City_A  1708036227.0842292  9X3JsYxNpxKRrg       None\n",
       "1    2  Person_2   27  City_A  1708036227.0842292  e41WTjq8LWBEvQ       None\n",
       "2    3  Person_3   28  City_A  1708036227.0842292  VVhIa9vBumOxVQ       None\n",
       "3    4  Person_4   29  City_A  1708036227.0842292  C4D+Yj10UW/gig       None\n",
       "4    5  Person_5   30  City_A  1708036227.0842292  BFk8SrxM6GENfA       None\n",
       "5    3  Person_3   33  City_B   1708036227.699143  APqp5lqpoFU1KA      Job_3\n",
       "6    4  Person_4   34  City_B   1708036227.699143  kt8IchGpd5L4sw      Job_4\n",
       "7    5  Person_5   35  City_B   1708036227.699143  ndlkajbvVFt7og      Job_5\n",
       "8    6  Person_6   36  City_B   1708036227.699143  ZMxY+qtJWuT39Q      Job_6\n",
       "9    7  Person_7   37  City_B   1708036227.699143  oWmYI5Ro95e5WQ      Job_7\n",
       "10   8  Person_8   38  City_B   1708036227.699143  Mmd40WSf2FCe5w      Job_8"
      ]
     },
     "metadata": {},
     "output_type": "display_data"
    }
   ],
   "source": [
    "# let's see what we wrote\n",
    "\n",
    "import duckdb\n",
    "\n",
    "conn = duckdb.connect(f\"{generators_pipeline.pipeline_name}.duckdb\")\n",
    "\n",
    "conn.sql(f\"SET search_path = '{generators_pipeline.dataset_name}'\")\n",
    "print('Loaded tables: ')\n",
    "display(conn.sql(\"show tables\"))\n",
    "\n",
    "print(\"\\n\\n\\n http_download table below:\")\n",
    "\n",
    "people = conn.sql(\"SELECT * FROM http_download\").df()\n",
    "display(people)"
   ]
  },
  {
   "cell_type": "code",
   "execution_count": 7,
   "metadata": {},
   "outputs": [
    {
     "data": {
      "text/html": [
       "<div>\n",
       "<style scoped>\n",
       "    .dataframe tbody tr th:only-of-type {\n",
       "        vertical-align: middle;\n",
       "    }\n",
       "\n",
       "    .dataframe tbody tr th {\n",
       "        vertical-align: top;\n",
       "    }\n",
       "\n",
       "    .dataframe thead th {\n",
       "        text-align: right;\n",
       "    }\n",
       "</style>\n",
       "<table border=\"1\" class=\"dataframe\">\n",
       "  <thead>\n",
       "    <tr style=\"text-align: right;\">\n",
       "      <th></th>\n",
       "      <th>sum(age)</th>\n",
       "    </tr>\n",
       "  </thead>\n",
       "  <tbody>\n",
       "    <tr>\n",
       "      <th>0</th>\n",
       "      <td>353.0</td>\n",
       "    </tr>\n",
       "  </tbody>\n",
       "</table>\n",
       "</div>"
      ],
      "text/plain": [
       "   sum(age)\n",
       "0     353.0"
      ]
     },
     "metadata": {},
     "output_type": "display_data"
    }
   ],
   "source": [
    "AGE = conn.sql(\"SELECT sum(age) FROM http_download\").df()\n",
    "display(AGE)"
   ]
  },
  {
   "cell_type": "code",
   "execution_count": 8,
   "metadata": {},
   "outputs": [
    {
     "data": {
      "text/plain": [
       "LoadInfo(pipeline=<dlt.pipeline.pipeline.Pipeline object at 0x11d484d00>, metrics={'1708036307.537811': [{'started_at': DateTime(2024, 2, 15, 22, 31, 47, 921028, tzinfo=Timezone('UTC')), 'finished_at': DateTime(2024, 2, 15, 22, 31, 48, 256286, tzinfo=Timezone('UTC'))}]}, destination_type='dlt.destinations.duckdb', destination_displayable_credentials='duckdb:////Users/cris/data-engineering-2024/dlt-workshop/dlt_ipykernel_launcher.duckdb', destination_name='duckdb', environment=None, staging_type=None, staging_name=None, staging_displayable_credentials=None, destination_fingerprint='', dataset_name='generators', loads_ids=['1708036307.537811'], load_packages=[LoadPackageInfo(load_id='1708036307.537811', package_path='/Users/cris/.dlt/pipelines/dlt_ipykernel_launcher/load/loaded/1708036307.537811', state='loaded', schema=Schema dlt_ipykernel_launcher at 4392064768, schema_update={'http_overwrite': {'name': 'http_overwrite', 'columns': {'occupation': {'name': 'occupation', 'data_type': 'text', 'nullable': True}}, 'write_disposition': 'merge', 'resource': 'http_overwrite', 'table_format': None}}, completed_at=DateTime(2024, 2, 15, 22, 31, 48, 243320, tzinfo=Timezone('UTC')), jobs={'completed_jobs': [LoadJobInfo(state='completed_jobs', file_path='/Users/cris/.dlt/pipelines/dlt_ipykernel_launcher/load/loaded/1708036307.537811/completed_jobs/http_overwrite.313cf7eb4b.0.sql', file_size=709, created_at=DateTime(2024, 2, 15, 22, 31, 47, 974938, tzinfo=Timezone('UTC')), elapsed=0.26838231086730957, job_file_info=ParsedLoadJobFileName(table_name='http_overwrite', file_id='313cf7eb4b', retry_count=0, file_format='sql'), failed_message=None), LoadJobInfo(state='completed_jobs', file_path='/Users/cris/.dlt/pipelines/dlt_ipykernel_launcher/load/loaded/1708036307.537811/completed_jobs/http_overwrite.2096474dcc.0.insert_values', file_size=336, created_at=DateTime(2024, 2, 15, 22, 31, 47, 561446, tzinfo=Timezone('UTC')), elapsed=0.6818737983703613, job_file_info=ParsedLoadJobFileName(table_name='http_overwrite', file_id='2096474dcc', retry_count=0, file_format='insert_values'), failed_message=None)], 'new_jobs': [], 'failed_jobs': [], 'started_jobs': []})], first_run=False)"
      ]
     },
     "execution_count": 8,
     "metadata": {},
     "output_type": "execute_result"
    }
   ],
   "source": [
    "generators_pipeline.run(people_1(),\n",
    "\t\t\t\t\t\t\t\t\t\ttable_name=\"http_overwrite\",\n",
    "\t\t\t\t\t\t\t\t\t\twrite_disposition=\"replace\")\n",
    "\n",
    "generators_pipeline.run(people_2(),\n",
    "                        table_name=\"http_overwrite\",\n",
    "                        write_disposition=\"merge\",\n",
    "                        primary_key=\"id\")"
   ]
  },
  {
   "cell_type": "code",
   "execution_count": 9,
   "metadata": {},
   "outputs": [
    {
     "data": {
      "text/html": [
       "<div>\n",
       "<style scoped>\n",
       "    .dataframe tbody tr th:only-of-type {\n",
       "        vertical-align: middle;\n",
       "    }\n",
       "\n",
       "    .dataframe tbody tr th {\n",
       "        vertical-align: top;\n",
       "    }\n",
       "\n",
       "    .dataframe thead th {\n",
       "        text-align: right;\n",
       "    }\n",
       "</style>\n",
       "<table border=\"1\" class=\"dataframe\">\n",
       "  <thead>\n",
       "    <tr style=\"text-align: right;\">\n",
       "      <th></th>\n",
       "      <th>id</th>\n",
       "      <th>name</th>\n",
       "      <th>age</th>\n",
       "      <th>city</th>\n",
       "      <th>_dlt_load_id</th>\n",
       "      <th>_dlt_id</th>\n",
       "      <th>occupation</th>\n",
       "    </tr>\n",
       "  </thead>\n",
       "  <tbody>\n",
       "    <tr>\n",
       "      <th>0</th>\n",
       "      <td>1</td>\n",
       "      <td>Person_1</td>\n",
       "      <td>26</td>\n",
       "      <td>City_A</td>\n",
       "      <td>1708036306.948889</td>\n",
       "      <td>xKLAJ57XnI8UrQ</td>\n",
       "      <td>None</td>\n",
       "    </tr>\n",
       "    <tr>\n",
       "      <th>1</th>\n",
       "      <td>2</td>\n",
       "      <td>Person_2</td>\n",
       "      <td>27</td>\n",
       "      <td>City_A</td>\n",
       "      <td>1708036306.948889</td>\n",
       "      <td>vKLP2/SUwR4b9A</td>\n",
       "      <td>None</td>\n",
       "    </tr>\n",
       "    <tr>\n",
       "      <th>2</th>\n",
       "      <td>4</td>\n",
       "      <td>Person_4</td>\n",
       "      <td>34</td>\n",
       "      <td>City_B</td>\n",
       "      <td>1708036307.537811</td>\n",
       "      <td>j85WvuQ2PzLnsA</td>\n",
       "      <td>Job_4</td>\n",
       "    </tr>\n",
       "    <tr>\n",
       "      <th>3</th>\n",
       "      <td>5</td>\n",
       "      <td>Person_5</td>\n",
       "      <td>35</td>\n",
       "      <td>City_B</td>\n",
       "      <td>1708036307.537811</td>\n",
       "      <td>vF0AkXWFfv1mWQ</td>\n",
       "      <td>Job_5</td>\n",
       "    </tr>\n",
       "    <tr>\n",
       "      <th>4</th>\n",
       "      <td>3</td>\n",
       "      <td>Person_3</td>\n",
       "      <td>33</td>\n",
       "      <td>City_B</td>\n",
       "      <td>1708036307.537811</td>\n",
       "      <td>yC9mdu2OeK1haw</td>\n",
       "      <td>Job_3</td>\n",
       "    </tr>\n",
       "    <tr>\n",
       "      <th>5</th>\n",
       "      <td>6</td>\n",
       "      <td>Person_6</td>\n",
       "      <td>36</td>\n",
       "      <td>City_B</td>\n",
       "      <td>1708036307.537811</td>\n",
       "      <td>D4XTfsngwNzERg</td>\n",
       "      <td>Job_6</td>\n",
       "    </tr>\n",
       "    <tr>\n",
       "      <th>6</th>\n",
       "      <td>7</td>\n",
       "      <td>Person_7</td>\n",
       "      <td>37</td>\n",
       "      <td>City_B</td>\n",
       "      <td>1708036307.537811</td>\n",
       "      <td>9P+zQazUeYPMnA</td>\n",
       "      <td>Job_7</td>\n",
       "    </tr>\n",
       "    <tr>\n",
       "      <th>7</th>\n",
       "      <td>8</td>\n",
       "      <td>Person_8</td>\n",
       "      <td>38</td>\n",
       "      <td>City_B</td>\n",
       "      <td>1708036307.537811</td>\n",
       "      <td>nTQYmAFF4A08gw</td>\n",
       "      <td>Job_8</td>\n",
       "    </tr>\n",
       "  </tbody>\n",
       "</table>\n",
       "</div>"
      ],
      "text/plain": [
       "   id      name  age    city       _dlt_load_id         _dlt_id occupation\n",
       "0   1  Person_1   26  City_A  1708036306.948889  xKLAJ57XnI8UrQ       None\n",
       "1   2  Person_2   27  City_A  1708036306.948889  vKLP2/SUwR4b9A       None\n",
       "2   4  Person_4   34  City_B  1708036307.537811  j85WvuQ2PzLnsA      Job_4\n",
       "3   5  Person_5   35  City_B  1708036307.537811  vF0AkXWFfv1mWQ      Job_5\n",
       "4   3  Person_3   33  City_B  1708036307.537811  yC9mdu2OeK1haw      Job_3\n",
       "5   6  Person_6   36  City_B  1708036307.537811  D4XTfsngwNzERg      Job_6\n",
       "6   7  Person_7   37  City_B  1708036307.537811  9P+zQazUeYPMnA      Job_7\n",
       "7   8  Person_8   38  City_B  1708036307.537811  nTQYmAFF4A08gw      Job_8"
      ]
     },
     "metadata": {},
     "output_type": "display_data"
    },
    {
     "data": {
      "text/html": [
       "<div>\n",
       "<style scoped>\n",
       "    .dataframe tbody tr th:only-of-type {\n",
       "        vertical-align: middle;\n",
       "    }\n",
       "\n",
       "    .dataframe tbody tr th {\n",
       "        vertical-align: top;\n",
       "    }\n",
       "\n",
       "    .dataframe thead th {\n",
       "        text-align: right;\n",
       "    }\n",
       "</style>\n",
       "<table border=\"1\" class=\"dataframe\">\n",
       "  <thead>\n",
       "    <tr style=\"text-align: right;\">\n",
       "      <th></th>\n",
       "      <th>sum(age)</th>\n",
       "    </tr>\n",
       "  </thead>\n",
       "  <tbody>\n",
       "    <tr>\n",
       "      <th>0</th>\n",
       "      <td>266.0</td>\n",
       "    </tr>\n",
       "  </tbody>\n",
       "</table>\n",
       "</div>"
      ],
      "text/plain": [
       "   sum(age)\n",
       "0     266.0"
      ]
     },
     "metadata": {},
     "output_type": "display_data"
    }
   ],
   "source": [
    "people = conn.sql(\"SELECT * FROM http_overwrite\").df()\n",
    "display(people)\n",
    "\n",
    "AGE = conn.sql(\"SELECT sum(age) FROM http_overwrite\").df()\n",
    "display(AGE)"
   ]
  }
 ],
 "metadata": {
  "colab": {
   "provenance": []
  },
  "kernelspec": {
   "display_name": "Python 3 (ipykernel)",
   "language": "python",
   "name": "python3"
  },
  "language_info": {
   "codemirror_mode": {
    "name": "ipython",
    "version": 3
   },
   "file_extension": ".py",
   "mimetype": "text/x-python",
   "name": "python",
   "nbconvert_exporter": "python",
   "pygments_lexer": "ipython3",
   "version": "3.9.6"
  }
 },
 "nbformat": 4,
 "nbformat_minor": 4
}
